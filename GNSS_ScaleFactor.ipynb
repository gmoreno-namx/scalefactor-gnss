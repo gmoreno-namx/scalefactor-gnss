{
 "cells": [
  {
   "cell_type": "markdown",
   "id": "9da8b821-9a34-4f4b-9982-f7fef0faa6f0",
   "metadata": {},
   "source": [
    "# **Scale Factor Calculation: GNSS Coordinates**\n",
    "\n",
    "This document explains the Python code within the GNSS_ScaleFactor.ipynb notebook. The primary goal of the script is to convert a set of UTM (Universal Transverse Mercator) coordinates into geographic coordinates (latitude and longitude) and then calculate the corresponding projection scale factors for that location."
   ]
  },
  {
   "cell_type": "markdown",
   "id": "ee497c32-04dc-4d94-a646-a83ab7168fba",
   "metadata": {},
   "source": [
    "#### ***Setup and Initialization***\n",
    "\n",
    "Installation: The **pyproj** library is installed. This library is essential for performing geodetic calculations and coordinate transformations.\n",
    "\n",
    "Import the required modules. ***Proj*** is the core class from the **pyproj** library used to define and work with cartographic projections:"
   ]
  },
  {
   "cell_type": "code",
   "execution_count": 6,
   "id": "ea89d7fe-a3c4-40e6-9d13-ab97ec051188",
   "metadata": {},
   "outputs": [
    {
     "name": "stdout",
     "output_type": "stream",
     "text": [
      "Collecting pyproj\n",
      "  Downloading pyproj-3.7.1-cp312-cp312-win_amd64.whl.metadata (31 kB)\n",
      "Requirement already satisfied: certifi in c:\\users\\gilberto\\appdata\\local\\programs\\python\\python312\\lib\\site-packages (from pyproj) (2024.2.2)\n",
      "Downloading pyproj-3.7.1-cp312-cp312-win_amd64.whl (6.3 MB)\n",
      "   ---------------------------------------- 0.0/6.3 MB ? eta -:--:--\n",
      "   - -------------------------------------- 0.3/6.3 MB ? eta -:--:--\n",
      "   - -------------------------------------- 0.3/6.3 MB ? eta -:--:--\n",
      "   ----- ---------------------------------- 0.8/6.3 MB 1.6 MB/s eta 0:00:04\n",
      "   -------- ------------------------------- 1.3/6.3 MB 1.6 MB/s eta 0:00:04\n",
      "   ---------- ----------------------------- 1.6/6.3 MB 1.5 MB/s eta 0:00:04\n",
      "   ----------- ---------------------------- 1.8/6.3 MB 1.5 MB/s eta 0:00:03\n",
      "   --------------- ------------------------ 2.4/6.3 MB 1.6 MB/s eta 0:00:03\n",
      "   ------------------ --------------------- 2.9/6.3 MB 1.7 MB/s eta 0:00:02\n",
      "   -------------------- ------------------- 3.1/6.3 MB 1.8 MB/s eta 0:00:02\n",
      "   ------------------------- -------------- 3.9/6.3 MB 1.9 MB/s eta 0:00:02\n",
      "   ---------------------------- ----------- 4.5/6.3 MB 2.0 MB/s eta 0:00:01\n",
      "   ------------------------------ --------- 4.7/6.3 MB 1.9 MB/s eta 0:00:01\n",
      "   ------------------------------- -------- 5.0/6.3 MB 1.9 MB/s eta 0:00:01\n",
      "   --------------------------------- ------ 5.2/6.3 MB 1.9 MB/s eta 0:00:01\n",
      "   ------------------------------------ --- 5.8/6.3 MB 1.9 MB/s eta 0:00:01\n",
      "   ---------------------------------------- 6.3/6.3 MB 2.0 MB/s  0:00:03\n",
      "Installing collected packages: pyproj\n",
      "Successfully installed pyproj-3.7.1\n"
     ]
    },
    {
     "name": "stderr",
     "output_type": "stream",
     "text": [
      "WARNING: Ignoring invalid distribution ~upyterlab (C:\\Users\\Gilberto\\AppData\\Local\\Programs\\Python\\Python312\\Lib\\site-packages)\n",
      "WARNING: Ignoring invalid distribution ~upyterlab (C:\\Users\\Gilberto\\AppData\\Local\\Programs\\Python\\Python312\\Lib\\site-packages)\n",
      "WARNING: Ignoring invalid distribution ~upyterlab (C:\\Users\\Gilberto\\AppData\\Local\\Programs\\Python\\Python312\\Lib\\site-packages)\n"
     ]
    }
   ],
   "source": [
    "!pip install pyproj"
   ]
  },
  {
   "cell_type": "code",
   "execution_count": 26,
   "id": "bf2fd84f-493e-46a7-9190-1fe6303e1030",
   "metadata": {},
   "outputs": [],
   "source": [
    "import numpy as np\n",
    "import matplotlib.pyplot as plt\n",
    "from pyproj import Proj"
   ]
  },
  {
   "cell_type": "markdown",
   "id": "90c26774-96d5-4139-80bc-682a4d97b277",
   "metadata": {},
   "source": [
    "#### ***Coordinate Conversion: UTM to Geographic***\n",
    "This section takes a known point in UTM coordinates and converts it to its latitude and longitude equivalent.\n",
    "\n",
    "***Input Coordinates:*** The script starts with a defined point in UTM Zone 12, using the WGS84 ellipsoid as the reference frame.\n",
    "\n",
    "***Transformation:*** A Proj object is configured for UTM Zone 12. The inverse=True argument in the next step tells the function to convert from UTM to geographic coordinates. The result is the latitude and longitude for the input easting and northing."
   ]
  },
  {
   "cell_type": "code",
   "execution_count": 30,
   "id": "2632bb8d-2fe4-49b3-be81-402c3ddae033",
   "metadata": {},
   "outputs": [
    {
     "name": "stdout",
     "output_type": "stream",
     "text": [
      "Latitude: 30.46122976°\n",
      "Longitude: -110.57459100°\n"
     ]
    }
   ],
   "source": [
    "# UTM coordinates:\n",
    "east_utm = 540838.837\n",
    "north_utm = 3369972.004\n",
    "elev = 1277.410 #Orthometric\n",
    "\n",
    "# Mexico: Calculation between orthometric and ellipsoidal heigth check: https://www.inegi.org.mx/app/geo2/alturasgeoidales.\n",
    "\n",
    "# UTM projection definition (Meridian: 111W meridian):\n",
    "utm = Proj(proj='utm', zone=12, ellips ='WGS84')\n",
    "\n",
    "# Lat/Long conversion:\n",
    "longitude, latitude = utm(east_utm, north_utm, inverse=True)\n",
    "\n",
    "print(f\"Latitude: {latitude:.8f}°\")\n",
    "print(f\"Longitude: {longitude:.8f}°\")"
   ]
  },
  {
   "cell_type": "markdown",
   "id": "57b8d409-6dc1-4122-bdeb-d8d6eb2e60e0",
   "metadata": {},
   "source": [
    "#### ***Scale Factor Calculation***\n",
    "The core logic of the notebook is encapsulated in the utm_scalefactor function. This function calculates the factors needed to convert a true ground distance to its representation on the UTM map grid.\n",
    "\n",
    "Point Scale Factor (k): This factor corrects for the distortion inherent in the UTM projection. Because a map is a flat representation of the curved Earth, distances are slightly distorted. The scale factor k is 1.0 on the standard meridians and changes as you move away from them. In the code, this is referred to as map_factor.\n",
    "\n",
    "Elevation Factor (SLF): A distance measured on the ground at a certain elevation (H) is longer than its equivalent distance on the reference ellipsoid (which approximates sea level). The Sea Level Factor reduces the ground distance to the ellipsoid. It is calculated with the formula SLF = R / (R + H), where R is the mean radius of the Earth.\n",
    "\n",
    "Combined Factor (CF): This is the product of the Point Scale Factor and the Elevation Factor (CF = k * SLF). It is the final multiplier used to convert a true horizontal ground distance to a \"grid distance\" on the map.\n",
    "\n",
    "The function is defined as follows:"
   ]
  },
  {
   "cell_type": "code",
   "execution_count": 31,
   "id": "f056cd34-fca8-4ccb-9f7d-b0e8e4b86d77",
   "metadata": {},
   "outputs": [],
   "source": [
    "def utm_scalefactor(lat, long, elev):\n",
    "    # UTM Scale Factor\n",
    "    factors = utm.get_factors(long, lat)\n",
    "    k = factors.meridional_scale\n",
    "    slf = 6378000/(6378000 + elev) #Sea Level Factor: SLF=R/(R+H)\n",
    "    cf = k*slf\n",
    "    return cf, k, slf"
   ]
  },
  {
   "cell_type": "markdown",
   "id": "90405de2-b76b-4e63-984a-d1b791a2d579",
   "metadata": {},
   "source": [
    "#### ***Results***\n",
    "Finally, the script calls the function with the calculated latitude/longitude and a specific ground elevation (1247.300 m) to get the correction factors for that exact point."
   ]
  },
  {
   "cell_type": "code",
   "execution_count": 32,
   "id": "7c7a9dfe-70a8-4641-a2da-f2c01425f425",
   "metadata": {},
   "outputs": [
    {
     "name": "stdout",
     "output_type": "stream",
     "text": [
      "Map Factor: 0.999621, SLF: 0.999804\n",
      "Map Distance x 100 meters: 99.962057\n"
     ]
    }
   ],
   "source": [
    "cf, k, slf = utm_scalefactor(30.46122976, -110.5745910, 1247.300) # Ellipsoidal height calculated.\n",
    "print(f\"Map Factor: {k:.6f}, SLF: {slf:.6f}\")\n",
    "print(f\"Map Distance x 100 meters: {k*100:.6f}\")"
   ]
  },
  {
   "cell_type": "markdown",
   "id": "9dfe3335-2d6f-4464-afe6-bcdbc4e3df60",
   "metadata": {},
   "source": [
    "***Output:*** The script prints the individual map_factor and slf. The final line demonstrates that a 100-meter distance on the ellipsoid would be represented as approximately 99.962 meters on the UTM grid at this specific location (100 * 0.999621). To get the full correction from a ground distance, one would multiply by the combined factor."
   ]
  }
 ],
 "metadata": {
  "kernelspec": {
   "display_name": "Python 3 (ipykernel)",
   "language": "python",
   "name": "python3"
  },
  "language_info": {
   "codemirror_mode": {
    "name": "ipython",
    "version": 3
   },
   "file_extension": ".py",
   "mimetype": "text/x-python",
   "name": "python",
   "nbconvert_exporter": "python",
   "pygments_lexer": "ipython3",
   "version": "3.12.2"
  }
 },
 "nbformat": 4,
 "nbformat_minor": 5
}
